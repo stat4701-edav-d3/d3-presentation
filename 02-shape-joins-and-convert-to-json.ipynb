{
 "metadata": {
  "name": "",
  "signature": "sha256:7b422b37a3b18b928ab44314eaff1d4fd360ac29db5567a34d29a317bbca10bd"
 },
 "nbformat": 3,
 "nbformat_minor": 0,
 "worksheets": [
  {
   "cells": [
    {
     "cell_type": "markdown",
     "metadata": {},
     "source": [
      "Grab a US States Shapefile append Flu data and then convert to JSON file\n",
      "\n"
     ]
    },
    {
     "cell_type": "code",
     "collapsed": false,
     "input": [],
     "language": "python",
     "metadata": {},
     "outputs": []
    },
    {
     "cell_type": "markdown",
     "metadata": {},
     "source": [
      "The JSON ogr commands can be shown here in Markdown code:\n",
      "\n",
      "        user$ ogr2ogr .....\n",
      "        \n",
      " "
     ]
    },
    {
     "cell_type": "code",
     "collapsed": false,
     "input": [],
     "language": "python",
     "metadata": {},
     "outputs": []
    }
   ],
   "metadata": {}
  }
 ]
}